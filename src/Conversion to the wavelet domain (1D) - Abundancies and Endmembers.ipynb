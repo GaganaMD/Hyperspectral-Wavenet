{
 "cells": [
  {
   "cell_type": "code",
   "execution_count": 1,
   "id": "22cee2a7",
   "metadata": {},
   "outputs": [],
   "source": [
    "import numpy as np\n",
    "import pywt\n",
    "from scipy.io import loadmat\n"
   ]
  },
  {
   "cell_type": "code",
   "execution_count": 2,
   "id": "2c89ef59",
   "metadata": {},
   "outputs": [],
   "source": [
    "# Load data\n",
    "file_path = r\"C:\\Users\\gagan\\Downloads\\5e128x128LegendreDefault.mat\"\n",
    "data = loadmat(file_path)\n"
   ]
  },
  {
   "cell_type": "code",
   "execution_count": 3,
   "id": "77debe06",
   "metadata": {},
   "outputs": [],
   "source": [
    "# Extract 'abundanciesGT' and 'endmembersGT'\n",
    "abundancies_gt = data['abundanciesGT']  # Shape: (128, 128, n_abundancies)\n",
    "endmembers_gt = data['endmembersGT']    # Shape: (n_bands, n_endmembers)\n"
   ]
  },
  {
   "cell_type": "code",
   "execution_count": 4,
   "id": "546b9fcf",
   "metadata": {},
   "outputs": [],
   "source": [
    "# Reshape 'abundanciesGT' into a 2D array where each pixel's data is a 1D vector\n",
    "abundancies_vector_data = abundancies_gt.reshape(-1, abundancies_gt.shape[2])  # Shape: (128*128, n_abundancies)\n"
   ]
  },
  {
   "cell_type": "code",
   "execution_count": 5,
   "id": "0daa7a38",
   "metadata": {},
   "outputs": [],
   "source": [
    "# Reshape 'endmembersGT' as its columns represent 1D vectors\n",
    "endmembers_vector_data = endmembers_gt.T  # Shape: (n_endmembers, n_bands)\n"
   ]
  },
  {
   "cell_type": "code",
   "execution_count": 6,
   "id": "42d9947d",
   "metadata": {},
   "outputs": [],
   "source": [
    "# Perform wavelet transform on the first vectors to get coefficient sizes\n",
    "sample_abundance_vector = abundancies_vector_data[0]\n",
    "sample_endmember_vector = endmembers_vector_data[0]\n",
    "\n",
    "cA_abundance, cD_abundance = pywt.dwt(sample_abundance_vector, 'bior1.3')\n",
    "cA_endmember, cD_endmember = pywt.dwt(sample_endmember_vector, 'bior1.3')\n"
   ]
  },
  {
   "cell_type": "code",
   "execution_count": 7,
   "id": "073d55a0",
   "metadata": {},
   "outputs": [],
   "source": [
    "# Initialize cubes based on coefficient sizes\n",
    "abundance_approximation_cube = np.empty((abundancies_vector_data.shape[0], cA_abundance.shape[0]))\n",
    "abundance_detail_cube = np.empty((abundancies_vector_data.shape[0], cD_abundance.shape[0]))\n",
    "\n",
    "endmember_approximation_cube = np.empty((endmembers_vector_data.shape[0], cA_endmember.shape[0]))\n",
    "endmember_detail_cube = np.empty((endmembers_vector_data.shape[0], cD_endmember.shape[0]))\n"
   ]
  },
  {
   "cell_type": "code",
   "execution_count": 8,
   "id": "f105f9c8",
   "metadata": {},
   "outputs": [],
   "source": [
    "# Apply wavelet transform to each vector and store coefficients in cubes\n",
    "for idx, vector in enumerate(abundancies_vector_data):\n",
    "    cA, cD = pywt.dwt(vector, 'bior1.3')\n",
    "    abundance_approximation_cube[idx, :] = cA\n",
    "    abundance_detail_cube[idx, :] = cD\n",
    "\n",
    "for idx, vector in enumerate(endmembers_vector_data):\n",
    "    cA, cD = pywt.dwt(vector, 'bior1.3')\n",
    "    endmember_approximation_cube[idx, :] = cA\n",
    "    endmember_detail_cube[idx, :] = cD\n"
   ]
  },
  {
   "cell_type": "code",
   "execution_count": 9,
   "id": "fb2f61cc",
   "metadata": {},
   "outputs": [],
   "source": [
    "# Reshape abundance coefficient cubes back to spatial dimensions\n",
    "abundance_approximation_cube = abundance_approximation_cube.reshape(abundancies_gt.shape[0], abundancies_gt.shape[1], -1)\n",
    "abundance_detail_cube = abundance_detail_cube.reshape(abundancies_gt.shape[0], abundancies_gt.shape[1], -1)\n"
   ]
  },
  {
   "cell_type": "code",
   "execution_count": 10,
   "id": "34e16078",
   "metadata": {},
   "outputs": [
    {
     "name": "stdout",
     "output_type": "stream",
     "text": [
      "Shape of abundanciesGT: (128, 128, 5)\n",
      "Shape of abundance approximation cube: (128, 128, 5)\n",
      "Shape of abundance detail cube: (128, 128, 5)\n"
     ]
    }
   ],
   "source": [
    "# Output shapes for verification\n",
    "print(\"Shape of abundanciesGT:\", abundancies_gt.shape)\n",
    "print(\"Shape of abundance approximation cube:\", abundance_approximation_cube.shape)\n",
    "print(\"Shape of abundance detail cube:\", abundance_detail_cube.shape)\n"
   ]
  },
  {
   "cell_type": "code",
   "execution_count": 11,
   "id": "2a25b640",
   "metadata": {},
   "outputs": [
    {
     "name": "stdout",
     "output_type": "stream",
     "text": [
      "Shape of endmembersGT: (5, 431)\n",
      "Shape of endmember approximation cube: (431, 5)\n",
      "Shape of endmember detail cube: (431, 5)\n"
     ]
    }
   ],
   "source": [
    "\n",
    "# Output shapes for endmembers\n",
    "print(\"Shape of endmembersGT:\", endmembers_gt.shape)\n",
    "print(\"Shape of endmember approximation cube:\", endmember_approximation_cube.shape)\n",
    "print(\"Shape of endmember detail cube:\", endmember_detail_cube.shape)\n"
   ]
  },
  {
   "cell_type": "code",
   "execution_count": null,
   "id": "dc4111df",
   "metadata": {},
   "outputs": [],
   "source": []
  }
 ],
 "metadata": {
  "kernelspec": {
   "display_name": "Python 3 (ipykernel)",
   "language": "python",
   "name": "python3"
  },
  "language_info": {
   "codemirror_mode": {
    "name": "ipython",
    "version": 3
   },
   "file_extension": ".py",
   "mimetype": "text/x-python",
   "name": "python",
   "nbconvert_exporter": "python",
   "pygments_lexer": "ipython3",
   "version": "3.11.5"
  }
 },
 "nbformat": 4,
 "nbformat_minor": 5
}
